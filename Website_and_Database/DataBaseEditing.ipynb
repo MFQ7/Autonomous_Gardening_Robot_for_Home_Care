{
 "cells": [
  {
   "cell_type": "code",
   "execution_count": 2,
   "id": "eabd3eb9-a689-4f48-8223-e75c23c2e812",
   "metadata": {},
   "outputs": [
    {
     "name": "stdout",
     "output_type": "stream",
     "text": [
      "Data pushed/updated successfully.\n"
     ]
    }
   ],
   "source": [
    "import firebase_admin\n",
    "from firebase_admin import credentials, db\n",
    "from datetime import datetime\n",
    "\n",
    "time = datetime.now()\n",
    "cur_time = time.strftime(\"Last Update:- %B %d, %Y: Time { %H:%M:%S }\")\n",
    "\n",
    "position = \"A\"\n",
    "prediction = 'Noni_Fruit'\n",
    "moisture = \"69%\"\n",
    "\n",
    "cred = credentials.Certificate('myKey.json')  \n",
    "\n",
    "if not firebase_admin._apps:\n",
    "    firebase_admin.initialize_app(cred, {\n",
    "        'databaseURL': 'https://plantcare-5de83-default-rtdb.europe-west1.firebasedatabase.app/'\n",
    "    })\n",
    "\n",
    "ref = db.reference('predictions')\n",
    "ref2 = db.reference('date')\n",
    "\n",
    "data = {\n",
    "    'position': position,\n",
    "    'prediction': prediction,\n",
    "    'moisture': moisture\n",
    "}\n",
    "data2 = {\n",
    "    'time': cur_time\n",
    "}\n",
    "\n",
    "position_ref = ref.order_by_child('position').equal_to(position).get()\n",
    "if position_ref:\n",
    "    for key in position_ref:\n",
    "        ref.child(key).update(data)\n",
    "else:\n",
    "    ref.push(data)\n",
    "\n",
    "ref2.push(data2)\n",
    "\n",
    "print(\"Data pushed/updated successfully.\")\n"
   ]
  }
 ],
 "metadata": {
  "kernelspec": {
   "display_name": "Python 3 (ipykernel)",
   "language": "python",
   "name": "python3"
  },
  "language_info": {
   "codemirror_mode": {
    "name": "ipython",
    "version": 3
   },
   "file_extension": ".py",
   "mimetype": "text/x-python",
   "name": "python",
   "nbconvert_exporter": "python",
   "pygments_lexer": "ipython3",
   "version": "3.9.6"
  }
 },
 "nbformat": 4,
 "nbformat_minor": 5
}
